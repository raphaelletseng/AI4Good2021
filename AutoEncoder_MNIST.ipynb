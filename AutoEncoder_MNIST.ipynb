{
  "nbformat": 4,
  "nbformat_minor": 0,
  "metadata": {
    "colab": {
      "name": "AutoEncoder_MNIST.ipynb",
      "private_outputs": true,
      "provenance": [],
      "collapsed_sections": [],
      "include_colab_link": true
    },
    "kernelspec": {
      "name": "python3",
      "display_name": "Python 3"
    },
    "language_info": {
      "name": "python"
    },
    "accelerator": "GPU"
  },
  "cells": [
    {
      "cell_type": "markdown",
      "metadata": {
        "id": "view-in-github",
        "colab_type": "text"
      },
      "source": [
        "<a href=\"https://colab.research.google.com/github/raphaelletseng/AI4Good2021/blob/main/AutoEncoder_MNIST.ipynb\" target=\"_parent\"><img src=\"https://colab.research.google.com/assets/colab-badge.svg\" alt=\"Open In Colab\"/></a>"
      ]
    },
    {
      "cell_type": "code",
      "metadata": {
        "id": "YW5DdxTaJ1yU"
      },
      "source": [
        "#https://pytorch.org/vision/stable/datasets.html#mnist\n",
        "import torch\n",
        "import torchvision\n",
        "import torchvision.transforms as transforms\n",
        "\n",
        "if torch.cuda.is_available():\n",
        "    device = torch.device('cuda')\n",
        "else:\n",
        "    device = torch.device('cpu')\n",
        "    \n",
        "transform = transforms.ToTensor()\n",
        "trainset = torchvision.datasets.MNIST('/tmp', train=True, download=True, transform=transform)\n",
        "testset = torchvision.datasets.MNIST('/tmp', train=False, download=True, transform=transform)\n"
      ],
      "execution_count": null,
      "outputs": []
    },
    {
      "cell_type": "markdown",
      "metadata": {
        "id": "UTeqO94naRBn"
      },
      "source": [
        "1. Define the network, optimizer, and loss function.\n",
        "2. Train - For N epochs iterate through the dataset and for each batch of data:\n",
        "      1. output = Net(input)\n",
        "      2. Compute loss and perform back propagation\n",
        "      3. Run optimizer"
      ]
    },
    {
      "cell_type": "code",
      "metadata": {
        "id": "zRe7N67SQhbh"
      },
      "source": [
        "import matplotlib.pyplot as plt\n",
        "plt.imshow(trainset.data[2], cmap=\"gray\")\n",
        "print(trainset.data[2].shape)\n",
        "print(device)\n",
        "plt.show()"
      ],
      "execution_count": null,
      "outputs": []
    },
    {
      "cell_type": "markdown",
      "metadata": {
        "id": "F5O5YfU5a5ep"
      },
      "source": [
        "Dataloaders are used to efficiently split the datasets into batches."
      ]
    },
    {
      "cell_type": "code",
      "metadata": {
        "id": "2MhT2vCeQSMx"
      },
      "source": [
        "BATCH_SIZE=32\n",
        "trainloader = torch.utils.data.DataLoader(trainset, batch_size=BATCH_SIZE, shuffle=True, num_workers=2, drop_last = True)\n",
        "testloader = torch.utils.data.DataLoader(testset, batch_size=BATCH_SIZE, shuffle=False, num_workers=2, drop_last=True)"
      ],
      "execution_count": null,
      "outputs": []
    },
    {
      "cell_type": "code",
      "metadata": {
        "id": "0Ea3kXRaY2Q1"
      },
      "source": [
        "import torch\n",
        "import torch.nn.functional as F\n",
        "import torch.nn as nn\n",
        "from torch.autograd import Variable\n",
        "\n",
        "class AutoencoderModel(nn.Module):\n",
        "    def __init__(self, input_channels, latent_dim):\n",
        "        super(AutoencoderModel, self).__init__()\n",
        "        self.encoder_layer1 = nn.Conv2d(input_channels, 16, (3, 3), stride =1, padding=1) \n",
        "        #in_channels = 3 for RGB, out = #of filters\n",
        "        self.encoder_layer2 = nn.Conv2d(16, 32, (3, 3), stride =1, padding=1) \n",
        "        self.encoder_layer3 = nn.Conv2d(32, 64, (3, 3), stride =1, padding=1) \n",
        "        \n",
        "        self.pool_layer4 = nn.MaxPool2d(kernel_size = 3, stride= None, padding = 0, dilation = 1)\n",
        "        #Fully connected layer\n",
        "        self.encoder_fc_1 = nn.Linear(28*28*64, 512)\n",
        "        self.encoder_fc_2 = nn.Linear(512, latent_dim)\n",
        "\n",
        "        self.decoder_fc_1 = nn.Linear(10, 512)\n",
        "        self.decoder_fc_2 = nn.Linear(512, 28*28*64)\n",
        "\n",
        "        self.decoder_layer1 = nn.ConvTranspose2d(64, 32, (3, 3), stride=1, padding =1)\n",
        "        self.decoder_layer2 = nn.ConvTranspose2d(32, 16, (3, 3), stride=1, padding =1)\n",
        "        self.decoder_layer3 = nn.ConvTranspose2d(16, input_channels, (3, 3), stride=1, padding =1)\n",
        "\n",
        "    def encoder(self, x):\n",
        "        x = F.relu(self.encoder_layer1(x))\n",
        "        x = F.relu(self.encoder_layer2(x))\n",
        "        x = F.relu(self.encoder_layer3(x))\n",
        "#flatten the feature map:\n",
        "        x = x.view(BATCH_SIZE, -1)\n",
        "        x= F.relu(self.encoder_fc_1(x))\n",
        "        x= F.relu(self.encoder_fc_2(x))\n",
        "\n",
        "        return x\n",
        "\n",
        "    def decoder(self, x):\n",
        "        x = F.relu(self.decoder_fc_1(x))\n",
        "        x = F.relu(self.decoder_fc_2(x))\n",
        "\n",
        "        x = torch.reshape(x, (BATCH_SIZE, 64, 28, 28))\n",
        "\n",
        "        x = F.relu(self.decoder_layer1(x))    \n",
        "        x = F.relu(self.decoder_layer2(x))\n",
        "        x = F.relu(self.decoder_layer3(x))\n",
        "        \n",
        "        return x\n",
        "\n",
        "    def forward(self, x):\n",
        "        x = self.encoder(x)\n",
        "        x = self.decoder(x)\n",
        "        return x\n",
        "        \n"
      ],
      "execution_count": null,
      "outputs": []
    },
    {
      "cell_type": "code",
      "metadata": {
        "id": "vDN29QPmi6Pi"
      },
      "source": [
        "model = AutoencoderModel(input_channels = 1, latent_dim=10).to(device)\n",
        "optimizer = torch.optim.Adam(model.parameters(), lr=0.001)\n",
        "loss_function = nn.MSELoss()\n"
      ],
      "execution_count": null,
      "outputs": []
    },
    {
      "cell_type": "code",
      "metadata": {
        "id": "JsH7XotwjOtX"
      },
      "source": [
        "EPOCHS  = 10\n",
        "epoch_loss = 0\n",
        "import tqdm\n",
        "for epoch in tqdm.trange(EPOCHS):\n",
        "    for images, labels in trainloader:\n",
        "      images = images.to(device)\n",
        "\n",
        "      # output = model(input)\n",
        "      reconstructions = model(images)\n",
        "      # compute loss function\n",
        "      loss = loss_function(images, reconstructions)\n",
        "      # backward pass\n",
        "      optimizer.zero_grad()\n",
        "      loss.backward()\n",
        "      # run optimizer\n",
        "      optimizer.step()\n",
        "\n",
        "      # bookkeeping \n",
        "      epoch_loss += loss.item()*images.size(0)\n",
        "      "
      ],
      "execution_count": null,
      "outputs": []
    },
    {
      "cell_type": "markdown",
      "metadata": {
        "id": "OjvZRZUlcP4i"
      },
      "source": [
        "Test Dataset"
      ]
    },
    {
      "cell_type": "code",
      "metadata": {
        "id": "oZVJare-BOvo"
      },
      "source": [
        "model.eval()\n",
        "test_loss = 0\n",
        "\n",
        "for image, _ in testloader:\n",
        "  # no need to compute gradients - saves time and memory\n",
        "  with torch.no_grad():\n",
        "    image = image.to(device)\n",
        "    # output = model(input)\n",
        "    reconstruction = model(image)\n",
        "    reconstruction = torch.squeeze(reconstruction.cpu()[1], dim = 0)\n",
        "    image = torch.squeeze(image.cpu()[1], dim = 0)\n",
        "\n",
        "    #bookkeeping\n",
        "    test_loss += F.mse_loss(reconstruction, image, reduction='mean').item()*image.size(0) #loss\n",
        "\n",
        "    plt.imshow(reconstruction, cmap = 'gray')\n",
        "    plt.show()\n",
        "    plt.imshow(image, cmap = 'gray')\n",
        "    plt.show()\n",
        "    input()\n"
      ],
      "execution_count": null,
      "outputs": []
    },
    {
      "cell_type": "code",
      "metadata": {
        "id": "WMPNXoSg0laE"
      },
      "source": [
        "test_loss /= len(testloader.dataset)\n",
        "print('\\nTest set: Average Loss: {:.4f}\\n'.format(test_loss))"
      ],
      "execution_count": null,
      "outputs": []
    }
  ]
}